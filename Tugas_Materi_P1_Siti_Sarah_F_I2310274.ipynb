{
  "nbformat": 4,
  "nbformat_minor": 0,
  "metadata": {
    "colab": {
      "provenance": []
    },
    "kernelspec": {
      "name": "python3",
      "display_name": "Python 3"
    },
    "language_info": {
      "name": "python"
    }
  },
  "cells": [
    {
      "cell_type": "markdown",
      "source": [
        "Sigma (Penjumlahan)"
      ],
      "metadata": {
        "id": "Ao13rE4rQRbb"
      }
    },
    {
      "cell_type": "markdown",
      "source": [
        "$$\n",
        "\\sum_{i=1}^{100} 2^{2i+1}.\n",
        "$$"
      ],
      "metadata": {
        "id": "K9JgRRo8O5MC"
      }
    },
    {
      "cell_type": "code",
      "execution_count": 3,
      "metadata": {
        "id": "oaXc3e-3LVNR",
        "colab": {
          "base_uri": "https://localhost:8080/"
        },
        "outputId": "a8560a8b-d3a3-4f35-87c3-6f7b4079100b"
      },
      "outputs": [
        {
          "output_type": "stream",
          "name": "stdout",
          "text": [
            "Hasilnya =  4285168118023974068111898912909766940059207983420780894137000\n"
          ]
        }
      ],
      "source": [
        "a=0\n",
        "\n",
        "for i in range(1,101):\n",
        "  a = a + 2**(2*i+1)\n",
        "\n",
        "print('Hasilnya = ', a)"
      ]
    },
    {
      "cell_type": "markdown",
      "source": [
        "Pi (Perkalian)"
      ],
      "metadata": {
        "id": "ltaIA_FZQVZY"
      }
    },
    {
      "cell_type": "markdown",
      "source": [
        "$$\n",
        "\\prod_{j=1}^{50} 2j+2.\n",
        "$$"
      ],
      "metadata": {
        "id": "wrQq8fU2PWyY"
      }
    },
    {
      "cell_type": "code",
      "source": [
        "hasil = 1\n",
        "for x in range(1,51):\n",
        "  hasil = hasil * (2*x+2)\n",
        "\n",
        "print('Hasil = ', hasil)"
      ],
      "metadata": {
        "id": "K4OB2TW9PWYx",
        "colab": {
          "base_uri": "https://localhost:8080/"
        },
        "outputId": "826610b2-0958-4ea9-cc56-311d869bf3e2"
      },
      "execution_count": 2,
      "outputs": [
        {
          "output_type": "stream",
          "name": "stdout",
          "text": [
            "Hasil =  1746404459828110788660568077655617484731052427739679140223698377637888000000000000\n"
          ]
        }
      ]
    },
    {
      "cell_type": "markdown",
      "source": [
        "Faktorial"
      ],
      "metadata": {
        "id": "FeJ78alMQ2Ey"
      }
    },
    {
      "cell_type": "markdown",
      "source": [
        "$$\n",
        "10!\n",
        "$$"
      ],
      "metadata": {
        "id": "rEgK4ed0Qyx2"
      }
    },
    {
      "cell_type": "code",
      "source": [
        "def faktorial(n):\n",
        "  a=1\n",
        "  for i in range(1,n+1):\n",
        "    a = a*i\n",
        "  return(a)\n",
        "\n",
        "print('Hasil 10! = ',faktorial(10))\n"
      ],
      "metadata": {
        "id": "Mh53IlGdO63e",
        "colab": {
          "base_uri": "https://localhost:8080/"
        },
        "outputId": "d02f2e04-b9d3-4def-9731-09321b0e25ba"
      },
      "execution_count": 3,
      "outputs": [
        {
          "output_type": "stream",
          "name": "stdout",
          "text": [
            "Hasil 10! =  3628800\n"
          ]
        }
      ]
    },
    {
      "cell_type": "markdown",
      "source": [
        "Absolute"
      ],
      "metadata": {
        "id": "smklrzDSRMrq"
      }
    },
    {
      "cell_type": "markdown",
      "source": [
        "$$\n",
        "f(x) = |2x-1|,\n",
        "f(-100)=\n",
        "$$"
      ],
      "metadata": {
        "id": "9QqR9YkrQ-US"
      }
    },
    {
      "cell_type": "code",
      "source": [
        "def f(x):\n",
        "  return abs(2*x - 1)\n",
        "\n",
        "x_value = -100\n",
        "hasil = f(x_value)\n",
        "\n",
        "print('Hasil f(-100) adalah ', hasil)"
      ],
      "metadata": {
        "id": "8ZWZXhrZRMNZ",
        "colab": {
          "base_uri": "https://localhost:8080/"
        },
        "outputId": "ea817718-6d10-423f-c6fd-b44468ecb6e3"
      },
      "execution_count": null,
      "outputs": [
        {
          "output_type": "stream",
          "name": "stdout",
          "text": [
            "Hasil f(-100) adalah  201\n"
          ]
        }
      ]
    },
    {
      "cell_type": "markdown",
      "source": [
        "Fungsi Sepotong-sepotong (Piecewise Function)"
      ],
      "metadata": {
        "id": "M3guYUWsScnY"
      }
    },
    {
      "cell_type": "markdown",
      "source": [
        "$$\n",
        "f(x)=\n",
        "\\begin{cases}\n",
        "x^{2} & \\text{x < 0}, \\\\\n",
        "x+2 & \\text{x >= 0}.\n",
        "\\end{cases}\n",
        "f(3)=\n",
        "$$"
      ],
      "metadata": {
        "id": "sd7LZl_JRlDE"
      }
    },
    {
      "cell_type": "code",
      "source": [
        "def f(x):\n",
        "  if x<0 :\n",
        "    return x**2\n",
        "  elif x>=0:\n",
        "    return x+2\n",
        "\n",
        "nilai_x = 3\n",
        "hasil = f(nilai_x)\n",
        "print('Hasil f(3)= ',hasil)"
      ],
      "metadata": {
        "id": "dS7XjBWlRv8W",
        "colab": {
          "base_uri": "https://localhost:8080/"
        },
        "outputId": "f395b68d-24ae-4b2f-f7d2-887e77f7d53f"
      },
      "execution_count": 2,
      "outputs": [
        {
          "output_type": "stream",
          "name": "stdout",
          "text": [
            "Hasil f(3)=  5\n"
          ]
        }
      ]
    },
    {
      "cell_type": "markdown",
      "source": [
        "Matrix"
      ],
      "metadata": {
        "id": "VvfDI7hNVUoN"
      }
    },
    {
      "cell_type": "markdown",
      "source": [
        "\n",
        "$$\n",
        "\\begin{bmatrix}\n",
        "2 & 3 \\\\\n",
        "1 & 5\n",
        "\\end{bmatrix}\n",
        "*\n",
        "\\begin{bmatrix}\n",
        "7 & 0.5 \\\\\n",
        "4 & 0\n",
        "\\end{bmatrix}\n",
        "$$"
      ],
      "metadata": {
        "id": "JLh40-aAVrSI"
      }
    },
    {
      "cell_type": "code",
      "source": [
        "import numpy as np\n",
        "import math\n",
        "\n",
        "a = np.array([[2,3],[1,5]])\n",
        "b = np.array([[7,0.5],[4,0]])\n",
        "\n",
        "print(np.dot(a,b))"
      ],
      "metadata": {
        "id": "L9rh8MqEVr3n",
        "colab": {
          "base_uri": "https://localhost:8080/"
        },
        "outputId": "af46c86d-3360-44d6-a243-f99ca6a61524"
      },
      "execution_count": null,
      "outputs": [
        {
          "output_type": "stream",
          "name": "stdout",
          "text": [
            "[[26.   1. ]\n",
            " [27.   0.5]]\n"
          ]
        }
      ]
    }
  ]
}